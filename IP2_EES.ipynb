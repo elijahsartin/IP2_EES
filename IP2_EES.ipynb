{
 "cells": [
  {
   "cell_type": "markdown",
   "id": "91165a3c-1cd3-4564-a771-640d4f2e375c",
   "metadata": {},
   "source": [
    "# Individual Project #2\n",
    "## Elijah Sartin\n",
    "## 0.1.0\n",
    "## Spring 2022 Section 01"
   ]
  },
  {
   "cell_type": "code",
   "execution_count": 2,
   "id": "6fe84be0-5d2f-4169-9875-6dca6f7aad7c",
   "metadata": {},
   "outputs": [],
   "source": [
    "import pandas as pd\n",
    "import numpy as np"
   ]
  },
  {
   "cell_type": "code",
   "execution_count": 3,
   "id": "2ba7f9ec-adb3-4b2e-aa79-4dbc7c9e661e",
   "metadata": {},
   "outputs": [],
   "source": [
    "df = pd.read_csv(\"weather_2012.csv\")"
   ]
  },
  {
   "cell_type": "code",
   "execution_count": 4,
   "id": "cfe1196d-1511-4587-a1a5-282744e5880a",
   "metadata": {},
   "outputs": [
    {
     "data": {
      "text/html": [
       "<div>\n",
       "<style scoped>\n",
       "    .dataframe tbody tr th:only-of-type {\n",
       "        vertical-align: middle;\n",
       "    }\n",
       "\n",
       "    .dataframe tbody tr th {\n",
       "        vertical-align: top;\n",
       "    }\n",
       "\n",
       "    .dataframe thead th {\n",
       "        text-align: right;\n",
       "    }\n",
       "</style>\n",
       "<table border=\"1\" class=\"dataframe\">\n",
       "  <thead>\n",
       "    <tr style=\"text-align: right;\">\n",
       "      <th></th>\n",
       "      <th>Date/Time</th>\n",
       "      <th>Temp (C)</th>\n",
       "      <th>Dew Point Temp (C)</th>\n",
       "      <th>Rel Hum (%)</th>\n",
       "      <th>Wind Spd (km/h)</th>\n",
       "      <th>Visibility (km)</th>\n",
       "      <th>Stn Press (kPa)</th>\n",
       "      <th>Weather</th>\n",
       "    </tr>\n",
       "  </thead>\n",
       "  <tbody>\n",
       "    <tr>\n",
       "      <th>0</th>\n",
       "      <td>2012-01-01 00:00:00</td>\n",
       "      <td>-1.8</td>\n",
       "      <td>-3.9</td>\n",
       "      <td>86</td>\n",
       "      <td>4</td>\n",
       "      <td>8.0</td>\n",
       "      <td>101.24</td>\n",
       "      <td>Fog</td>\n",
       "    </tr>\n",
       "    <tr>\n",
       "      <th>1</th>\n",
       "      <td>2012-01-01 01:00:00</td>\n",
       "      <td>-1.8</td>\n",
       "      <td>-3.7</td>\n",
       "      <td>87</td>\n",
       "      <td>4</td>\n",
       "      <td>8.0</td>\n",
       "      <td>101.24</td>\n",
       "      <td>Fog</td>\n",
       "    </tr>\n",
       "    <tr>\n",
       "      <th>2</th>\n",
       "      <td>2012-01-01 02:00:00</td>\n",
       "      <td>-1.8</td>\n",
       "      <td>-3.4</td>\n",
       "      <td>89</td>\n",
       "      <td>7</td>\n",
       "      <td>4.0</td>\n",
       "      <td>101.26</td>\n",
       "      <td>Freezing Drizzle,Fog</td>\n",
       "    </tr>\n",
       "    <tr>\n",
       "      <th>3</th>\n",
       "      <td>2012-01-01 03:00:00</td>\n",
       "      <td>-1.5</td>\n",
       "      <td>-3.2</td>\n",
       "      <td>88</td>\n",
       "      <td>6</td>\n",
       "      <td>4.0</td>\n",
       "      <td>101.27</td>\n",
       "      <td>Freezing Drizzle,Fog</td>\n",
       "    </tr>\n",
       "    <tr>\n",
       "      <th>4</th>\n",
       "      <td>2012-01-01 04:00:00</td>\n",
       "      <td>-1.5</td>\n",
       "      <td>-3.3</td>\n",
       "      <td>88</td>\n",
       "      <td>7</td>\n",
       "      <td>4.8</td>\n",
       "      <td>101.23</td>\n",
       "      <td>Fog</td>\n",
       "    </tr>\n",
       "  </tbody>\n",
       "</table>\n",
       "</div>"
      ],
      "text/plain": [
       "             Date/Time  Temp (C)  Dew Point Temp (C)  Rel Hum (%)  \\\n",
       "0  2012-01-01 00:00:00      -1.8                -3.9           86   \n",
       "1  2012-01-01 01:00:00      -1.8                -3.7           87   \n",
       "2  2012-01-01 02:00:00      -1.8                -3.4           89   \n",
       "3  2012-01-01 03:00:00      -1.5                -3.2           88   \n",
       "4  2012-01-01 04:00:00      -1.5                -3.3           88   \n",
       "\n",
       "   Wind Spd (km/h)  Visibility (km)  Stn Press (kPa)               Weather  \n",
       "0                4              8.0           101.24                   Fog  \n",
       "1                4              8.0           101.24                   Fog  \n",
       "2                7              4.0           101.26  Freezing Drizzle,Fog  \n",
       "3                6              4.0           101.27  Freezing Drizzle,Fog  \n",
       "4                7              4.8           101.23                   Fog  "
      ]
     },
     "execution_count": 4,
     "metadata": {},
     "output_type": "execute_result"
    }
   ],
   "source": [
    "# first 5 rows\n",
    "df.head()"
   ]
  },
  {
   "cell_type": "code",
   "execution_count": 5,
   "id": "76f7d5d2-bcfa-42d0-83a9-993931199c4d",
   "metadata": {},
   "outputs": [
    {
     "data": {
      "text/html": [
       "<div>\n",
       "<style scoped>\n",
       "    .dataframe tbody tr th:only-of-type {\n",
       "        vertical-align: middle;\n",
       "    }\n",
       "\n",
       "    .dataframe tbody tr th {\n",
       "        vertical-align: top;\n",
       "    }\n",
       "\n",
       "    .dataframe thead th {\n",
       "        text-align: right;\n",
       "    }\n",
       "</style>\n",
       "<table border=\"1\" class=\"dataframe\">\n",
       "  <thead>\n",
       "    <tr style=\"text-align: right;\">\n",
       "      <th></th>\n",
       "      <th>Date/Time</th>\n",
       "      <th>Temp (C)</th>\n",
       "      <th>Dew Point Temp (C)</th>\n",
       "      <th>Rel Hum (%)</th>\n",
       "      <th>Wind Spd (km/h)</th>\n",
       "      <th>Visibility (km)</th>\n",
       "      <th>Stn Press (kPa)</th>\n",
       "      <th>Weather</th>\n",
       "    </tr>\n",
       "  </thead>\n",
       "  <tbody>\n",
       "    <tr>\n",
       "      <th>8779</th>\n",
       "      <td>2012-12-31 19:00:00</td>\n",
       "      <td>0.1</td>\n",
       "      <td>-2.7</td>\n",
       "      <td>81</td>\n",
       "      <td>30</td>\n",
       "      <td>9.7</td>\n",
       "      <td>100.13</td>\n",
       "      <td>Snow</td>\n",
       "    </tr>\n",
       "    <tr>\n",
       "      <th>8780</th>\n",
       "      <td>2012-12-31 20:00:00</td>\n",
       "      <td>0.2</td>\n",
       "      <td>-2.4</td>\n",
       "      <td>83</td>\n",
       "      <td>24</td>\n",
       "      <td>9.7</td>\n",
       "      <td>100.03</td>\n",
       "      <td>Snow</td>\n",
       "    </tr>\n",
       "    <tr>\n",
       "      <th>8781</th>\n",
       "      <td>2012-12-31 21:00:00</td>\n",
       "      <td>-0.5</td>\n",
       "      <td>-1.5</td>\n",
       "      <td>93</td>\n",
       "      <td>28</td>\n",
       "      <td>4.8</td>\n",
       "      <td>99.95</td>\n",
       "      <td>Snow</td>\n",
       "    </tr>\n",
       "    <tr>\n",
       "      <th>8782</th>\n",
       "      <td>2012-12-31 22:00:00</td>\n",
       "      <td>-0.2</td>\n",
       "      <td>-1.8</td>\n",
       "      <td>89</td>\n",
       "      <td>28</td>\n",
       "      <td>9.7</td>\n",
       "      <td>99.91</td>\n",
       "      <td>Snow</td>\n",
       "    </tr>\n",
       "    <tr>\n",
       "      <th>8783</th>\n",
       "      <td>2012-12-31 23:00:00</td>\n",
       "      <td>0.0</td>\n",
       "      <td>-2.1</td>\n",
       "      <td>86</td>\n",
       "      <td>30</td>\n",
       "      <td>11.3</td>\n",
       "      <td>99.89</td>\n",
       "      <td>Snow</td>\n",
       "    </tr>\n",
       "  </tbody>\n",
       "</table>\n",
       "</div>"
      ],
      "text/plain": [
       "                Date/Time  Temp (C)  Dew Point Temp (C)  Rel Hum (%)  \\\n",
       "8779  2012-12-31 19:00:00       0.1                -2.7           81   \n",
       "8780  2012-12-31 20:00:00       0.2                -2.4           83   \n",
       "8781  2012-12-31 21:00:00      -0.5                -1.5           93   \n",
       "8782  2012-12-31 22:00:00      -0.2                -1.8           89   \n",
       "8783  2012-12-31 23:00:00       0.0                -2.1           86   \n",
       "\n",
       "      Wind Spd (km/h)  Visibility (km)  Stn Press (kPa) Weather  \n",
       "8779               30              9.7           100.13    Snow  \n",
       "8780               24              9.7           100.03    Snow  \n",
       "8781               28              4.8            99.95    Snow  \n",
       "8782               28              9.7            99.91    Snow  \n",
       "8783               30             11.3            99.89    Snow  "
      ]
     },
     "execution_count": 5,
     "metadata": {},
     "output_type": "execute_result"
    }
   ],
   "source": [
    "# last 5 rows\n",
    "df.tail()"
   ]
  },
  {
   "cell_type": "code",
   "execution_count": 6,
   "id": "de3e2099-490b-43a1-acc4-b668ac0c465f",
   "metadata": {},
   "outputs": [
    {
     "data": {
      "text/html": [
       "<div>\n",
       "<style scoped>\n",
       "    .dataframe tbody tr th:only-of-type {\n",
       "        vertical-align: middle;\n",
       "    }\n",
       "\n",
       "    .dataframe tbody tr th {\n",
       "        vertical-align: top;\n",
       "    }\n",
       "\n",
       "    .dataframe thead th {\n",
       "        text-align: right;\n",
       "    }\n",
       "</style>\n",
       "<table border=\"1\" class=\"dataframe\">\n",
       "  <thead>\n",
       "    <tr style=\"text-align: right;\">\n",
       "      <th></th>\n",
       "      <th>Date/Time</th>\n",
       "      <th>Temp (C)</th>\n",
       "      <th>Dew Point Temp (C)</th>\n",
       "      <th>Rel Hum (%)</th>\n",
       "      <th>Wind Spd (km/h)</th>\n",
       "      <th>Visibility (km)</th>\n",
       "      <th>Stn Press (kPa)</th>\n",
       "      <th>Weather</th>\n",
       "    </tr>\n",
       "  </thead>\n",
       "  <tbody>\n",
       "    <tr>\n",
       "      <th>3043</th>\n",
       "      <td>2012-05-06 19:00:00</td>\n",
       "      <td>14.4</td>\n",
       "      <td>-1.8</td>\n",
       "      <td>33</td>\n",
       "      <td>9</td>\n",
       "      <td>48.3</td>\n",
       "      <td>101.56</td>\n",
       "      <td>Mostly Cloudy</td>\n",
       "    </tr>\n",
       "    <tr>\n",
       "      <th>4948</th>\n",
       "      <td>2012-07-25 04:00:00</td>\n",
       "      <td>14.5</td>\n",
       "      <td>12.2</td>\n",
       "      <td>86</td>\n",
       "      <td>7</td>\n",
       "      <td>25.0</td>\n",
       "      <td>100.69</td>\n",
       "      <td>Clear</td>\n",
       "    </tr>\n",
       "    <tr>\n",
       "      <th>1000</th>\n",
       "      <td>2012-02-11 16:00:00</td>\n",
       "      <td>-10.4</td>\n",
       "      <td>-18.3</td>\n",
       "      <td>52</td>\n",
       "      <td>6</td>\n",
       "      <td>48.3</td>\n",
       "      <td>100.70</td>\n",
       "      <td>Mainly Clear</td>\n",
       "    </tr>\n",
       "    <tr>\n",
       "      <th>1330</th>\n",
       "      <td>2012-02-25 10:00:00</td>\n",
       "      <td>-1.7</td>\n",
       "      <td>-3.3</td>\n",
       "      <td>89</td>\n",
       "      <td>32</td>\n",
       "      <td>1.6</td>\n",
       "      <td>98.45</td>\n",
       "      <td>Snow</td>\n",
       "    </tr>\n",
       "    <tr>\n",
       "      <th>8260</th>\n",
       "      <td>2012-12-10 04:00:00</td>\n",
       "      <td>-3.3</td>\n",
       "      <td>-4.4</td>\n",
       "      <td>92</td>\n",
       "      <td>28</td>\n",
       "      <td>3.6</td>\n",
       "      <td>100.73</td>\n",
       "      <td>Freezing Drizzle,Fog</td>\n",
       "    </tr>\n",
       "  </tbody>\n",
       "</table>\n",
       "</div>"
      ],
      "text/plain": [
       "                Date/Time  Temp (C)  Dew Point Temp (C)  Rel Hum (%)  \\\n",
       "3043  2012-05-06 19:00:00      14.4                -1.8           33   \n",
       "4948  2012-07-25 04:00:00      14.5                12.2           86   \n",
       "1000  2012-02-11 16:00:00     -10.4               -18.3           52   \n",
       "1330  2012-02-25 10:00:00      -1.7                -3.3           89   \n",
       "8260  2012-12-10 04:00:00      -3.3                -4.4           92   \n",
       "\n",
       "      Wind Spd (km/h)  Visibility (km)  Stn Press (kPa)               Weather  \n",
       "3043                9             48.3           101.56         Mostly Cloudy  \n",
       "4948                7             25.0           100.69                 Clear  \n",
       "1000                6             48.3           100.70          Mainly Clear  \n",
       "1330               32              1.6            98.45                  Snow  \n",
       "8260               28              3.6           100.73  Freezing Drizzle,Fog  "
      ]
     },
     "execution_count": 6,
     "metadata": {},
     "output_type": "execute_result"
    }
   ],
   "source": [
    "# 5 random rows\n",
    "df.sample(5)"
   ]
  },
  {
   "cell_type": "code",
   "execution_count": 7,
   "id": "17426aa1-52e1-4f26-bc99-3cca79f548a9",
   "metadata": {},
   "outputs": [
    {
     "data": {
      "text/plain": [
       "Index(['Date/Time', 'Temp (C)', 'Dew Point Temp (C)', 'Rel Hum (%)',\n",
       "       'Wind Spd (km/h)', 'Visibility (km)', 'Stn Press (kPa)', 'Weather'],\n",
       "      dtype='object')"
      ]
     },
     "execution_count": 7,
     "metadata": {},
     "output_type": "execute_result"
    }
   ],
   "source": [
    "# list columns\n",
    "columns=df.columns\n",
    "columns"
   ]
  },
  {
   "cell_type": "code",
   "execution_count": 8,
   "id": "766e88cd-bd8b-4041-a0b3-2ffa2e5ac0e9",
   "metadata": {},
   "outputs": [],
   "source": [
    "# rename columns to more usable names\n",
    "df.columns=['date_time', 'temp_c', 'dew_point', 'relative_humidity', 'wind_speed', 'visibility', 'pressure', 'weather']"
   ]
  },
  {
   "cell_type": "code",
   "execution_count": 9,
   "id": "30932089-7a10-47ac-a0a4-41176bdf607a",
   "metadata": {},
   "outputs": [
    {
     "data": {
      "text/html": [
       "<div>\n",
       "<style scoped>\n",
       "    .dataframe tbody tr th:only-of-type {\n",
       "        vertical-align: middle;\n",
       "    }\n",
       "\n",
       "    .dataframe tbody tr th {\n",
       "        vertical-align: top;\n",
       "    }\n",
       "\n",
       "    .dataframe thead th {\n",
       "        text-align: right;\n",
       "    }\n",
       "</style>\n",
       "<table border=\"1\" class=\"dataframe\">\n",
       "  <thead>\n",
       "    <tr style=\"text-align: right;\">\n",
       "      <th></th>\n",
       "      <th>temp_c</th>\n",
       "      <th>dew_point</th>\n",
       "      <th>relative_humidity</th>\n",
       "      <th>wind_speed</th>\n",
       "      <th>visibility</th>\n",
       "      <th>pressure</th>\n",
       "    </tr>\n",
       "  </thead>\n",
       "  <tbody>\n",
       "    <tr>\n",
       "      <th>count</th>\n",
       "      <td>8784.000000</td>\n",
       "      <td>8784.000000</td>\n",
       "      <td>8784.000000</td>\n",
       "      <td>8784.000000</td>\n",
       "      <td>8784.000000</td>\n",
       "      <td>8784.000000</td>\n",
       "    </tr>\n",
       "    <tr>\n",
       "      <th>mean</th>\n",
       "      <td>8.798144</td>\n",
       "      <td>2.555294</td>\n",
       "      <td>67.431694</td>\n",
       "      <td>14.945469</td>\n",
       "      <td>27.664447</td>\n",
       "      <td>101.051623</td>\n",
       "    </tr>\n",
       "    <tr>\n",
       "      <th>std</th>\n",
       "      <td>11.687883</td>\n",
       "      <td>10.883072</td>\n",
       "      <td>16.918881</td>\n",
       "      <td>8.688696</td>\n",
       "      <td>12.622688</td>\n",
       "      <td>0.844005</td>\n",
       "    </tr>\n",
       "    <tr>\n",
       "      <th>min</th>\n",
       "      <td>-23.300000</td>\n",
       "      <td>-28.500000</td>\n",
       "      <td>18.000000</td>\n",
       "      <td>0.000000</td>\n",
       "      <td>0.200000</td>\n",
       "      <td>97.520000</td>\n",
       "    </tr>\n",
       "    <tr>\n",
       "      <th>25%</th>\n",
       "      <td>0.100000</td>\n",
       "      <td>-5.900000</td>\n",
       "      <td>56.000000</td>\n",
       "      <td>9.000000</td>\n",
       "      <td>24.100000</td>\n",
       "      <td>100.560000</td>\n",
       "    </tr>\n",
       "    <tr>\n",
       "      <th>50%</th>\n",
       "      <td>9.300000</td>\n",
       "      <td>3.300000</td>\n",
       "      <td>68.000000</td>\n",
       "      <td>13.000000</td>\n",
       "      <td>25.000000</td>\n",
       "      <td>101.070000</td>\n",
       "    </tr>\n",
       "    <tr>\n",
       "      <th>75%</th>\n",
       "      <td>18.800000</td>\n",
       "      <td>11.800000</td>\n",
       "      <td>81.000000</td>\n",
       "      <td>20.000000</td>\n",
       "      <td>25.000000</td>\n",
       "      <td>101.590000</td>\n",
       "    </tr>\n",
       "    <tr>\n",
       "      <th>max</th>\n",
       "      <td>33.000000</td>\n",
       "      <td>24.400000</td>\n",
       "      <td>100.000000</td>\n",
       "      <td>83.000000</td>\n",
       "      <td>48.300000</td>\n",
       "      <td>103.650000</td>\n",
       "    </tr>\n",
       "  </tbody>\n",
       "</table>\n",
       "</div>"
      ],
      "text/plain": [
       "            temp_c    dew_point  relative_humidity   wind_speed   visibility  \\\n",
       "count  8784.000000  8784.000000        8784.000000  8784.000000  8784.000000   \n",
       "mean      8.798144     2.555294          67.431694    14.945469    27.664447   \n",
       "std      11.687883    10.883072          16.918881     8.688696    12.622688   \n",
       "min     -23.300000   -28.500000          18.000000     0.000000     0.200000   \n",
       "25%       0.100000    -5.900000          56.000000     9.000000    24.100000   \n",
       "50%       9.300000     3.300000          68.000000    13.000000    25.000000   \n",
       "75%      18.800000    11.800000          81.000000    20.000000    25.000000   \n",
       "max      33.000000    24.400000         100.000000    83.000000    48.300000   \n",
       "\n",
       "          pressure  \n",
       "count  8784.000000  \n",
       "mean    101.051623  \n",
       "std       0.844005  \n",
       "min      97.520000  \n",
       "25%     100.560000  \n",
       "50%     101.070000  \n",
       "75%     101.590000  \n",
       "max     103.650000  "
      ]
     },
     "execution_count": 9,
     "metadata": {},
     "output_type": "execute_result"
    }
   ],
   "source": [
    "# get basic statistics for each column\n",
    "df.describe()"
   ]
  },
  {
   "cell_type": "code",
   "execution_count": 10,
   "id": "199449b2-9544-492b-8028-06323ede704a",
   "metadata": {},
   "outputs": [],
   "source": [
    "# conversion function\n",
    "def c_to_f(n):\n",
    "    f = (n*(9/5))+32\n",
    "    return f"
   ]
  },
  {
   "cell_type": "code",
   "execution_count": 11,
   "id": "c48d8003-7d0a-4511-a370-1ae63152c865",
   "metadata": {},
   "outputs": [
    {
     "data": {
      "text/plain": [
       "41.36"
      ]
     },
     "execution_count": 11,
     "metadata": {},
     "output_type": "execute_result"
    }
   ],
   "source": [
    "c_to_f(5.2)"
   ]
  },
  {
   "cell_type": "code",
   "execution_count": 12,
   "id": "71e80d97-cc1b-46b1-820b-31cbaf4719a7",
   "metadata": {},
   "outputs": [],
   "source": [
    "# create new column w temp in fahrenheit\n",
    "df['temp_f']=list(map(lambda x: c_to_f(x), df['temp_c']))"
   ]
  },
  {
   "cell_type": "code",
   "execution_count": 13,
   "id": "db110688-cecd-4041-952f-7dde982d56bf",
   "metadata": {},
   "outputs": [
    {
     "data": {
      "text/html": [
       "<div>\n",
       "<style scoped>\n",
       "    .dataframe tbody tr th:only-of-type {\n",
       "        vertical-align: middle;\n",
       "    }\n",
       "\n",
       "    .dataframe tbody tr th {\n",
       "        vertical-align: top;\n",
       "    }\n",
       "\n",
       "    .dataframe thead th {\n",
       "        text-align: right;\n",
       "    }\n",
       "</style>\n",
       "<table border=\"1\" class=\"dataframe\">\n",
       "  <thead>\n",
       "    <tr style=\"text-align: right;\">\n",
       "      <th></th>\n",
       "      <th>date_time</th>\n",
       "      <th>temp_c</th>\n",
       "      <th>dew_point</th>\n",
       "      <th>relative_humidity</th>\n",
       "      <th>wind_speed</th>\n",
       "      <th>visibility</th>\n",
       "      <th>pressure</th>\n",
       "      <th>weather</th>\n",
       "      <th>temp_f</th>\n",
       "    </tr>\n",
       "  </thead>\n",
       "  <tbody>\n",
       "    <tr>\n",
       "      <th>0</th>\n",
       "      <td>2012-01-01 00:00:00</td>\n",
       "      <td>-1.8</td>\n",
       "      <td>-3.9</td>\n",
       "      <td>86</td>\n",
       "      <td>4</td>\n",
       "      <td>8.0</td>\n",
       "      <td>101.24</td>\n",
       "      <td>Fog</td>\n",
       "      <td>28.76</td>\n",
       "    </tr>\n",
       "    <tr>\n",
       "      <th>1</th>\n",
       "      <td>2012-01-01 01:00:00</td>\n",
       "      <td>-1.8</td>\n",
       "      <td>-3.7</td>\n",
       "      <td>87</td>\n",
       "      <td>4</td>\n",
       "      <td>8.0</td>\n",
       "      <td>101.24</td>\n",
       "      <td>Fog</td>\n",
       "      <td>28.76</td>\n",
       "    </tr>\n",
       "    <tr>\n",
       "      <th>2</th>\n",
       "      <td>2012-01-01 02:00:00</td>\n",
       "      <td>-1.8</td>\n",
       "      <td>-3.4</td>\n",
       "      <td>89</td>\n",
       "      <td>7</td>\n",
       "      <td>4.0</td>\n",
       "      <td>101.26</td>\n",
       "      <td>Freezing Drizzle,Fog</td>\n",
       "      <td>28.76</td>\n",
       "    </tr>\n",
       "    <tr>\n",
       "      <th>3</th>\n",
       "      <td>2012-01-01 03:00:00</td>\n",
       "      <td>-1.5</td>\n",
       "      <td>-3.2</td>\n",
       "      <td>88</td>\n",
       "      <td>6</td>\n",
       "      <td>4.0</td>\n",
       "      <td>101.27</td>\n",
       "      <td>Freezing Drizzle,Fog</td>\n",
       "      <td>29.30</td>\n",
       "    </tr>\n",
       "    <tr>\n",
       "      <th>4</th>\n",
       "      <td>2012-01-01 04:00:00</td>\n",
       "      <td>-1.5</td>\n",
       "      <td>-3.3</td>\n",
       "      <td>88</td>\n",
       "      <td>7</td>\n",
       "      <td>4.8</td>\n",
       "      <td>101.23</td>\n",
       "      <td>Fog</td>\n",
       "      <td>29.30</td>\n",
       "    </tr>\n",
       "  </tbody>\n",
       "</table>\n",
       "</div>"
      ],
      "text/plain": [
       "             date_time  temp_c  dew_point  relative_humidity  wind_speed  \\\n",
       "0  2012-01-01 00:00:00    -1.8       -3.9                 86           4   \n",
       "1  2012-01-01 01:00:00    -1.8       -3.7                 87           4   \n",
       "2  2012-01-01 02:00:00    -1.8       -3.4                 89           7   \n",
       "3  2012-01-01 03:00:00    -1.5       -3.2                 88           6   \n",
       "4  2012-01-01 04:00:00    -1.5       -3.3                 88           7   \n",
       "\n",
       "   visibility  pressure               weather  temp_f  \n",
       "0         8.0    101.24                   Fog   28.76  \n",
       "1         8.0    101.24                   Fog   28.76  \n",
       "2         4.0    101.26  Freezing Drizzle,Fog   28.76  \n",
       "3         4.0    101.27  Freezing Drizzle,Fog   29.30  \n",
       "4         4.8    101.23                   Fog   29.30  "
      ]
     },
     "execution_count": 13,
     "metadata": {},
     "output_type": "execute_result"
    }
   ],
   "source": [
    "# test new column\n",
    "df.head()"
   ]
  },
  {
   "cell_type": "code",
   "execution_count": 14,
   "id": "ac7ca4b3-2bec-4669-9fc4-5f189c1dbe88",
   "metadata": {},
   "outputs": [],
   "source": [
    "# rearrange columns\n",
    "df=df[['date_time', 'temp_f', 'temp_c', 'dew_point', 'relative_humidity', 'wind_speed', 'visibility', 'pressure', 'weather']]"
   ]
  },
  {
   "cell_type": "code",
   "execution_count": 15,
   "id": "c60b13f4-7191-4215-8f2c-bb8ba766ba00",
   "metadata": {},
   "outputs": [
    {
     "data": {
      "text/html": [
       "<div>\n",
       "<style scoped>\n",
       "    .dataframe tbody tr th:only-of-type {\n",
       "        vertical-align: middle;\n",
       "    }\n",
       "\n",
       "    .dataframe tbody tr th {\n",
       "        vertical-align: top;\n",
       "    }\n",
       "\n",
       "    .dataframe thead th {\n",
       "        text-align: right;\n",
       "    }\n",
       "</style>\n",
       "<table border=\"1\" class=\"dataframe\">\n",
       "  <thead>\n",
       "    <tr style=\"text-align: right;\">\n",
       "      <th></th>\n",
       "      <th>date_time</th>\n",
       "      <th>temp_f</th>\n",
       "      <th>temp_c</th>\n",
       "      <th>dew_point</th>\n",
       "      <th>relative_humidity</th>\n",
       "      <th>wind_speed</th>\n",
       "      <th>visibility</th>\n",
       "      <th>pressure</th>\n",
       "      <th>weather</th>\n",
       "    </tr>\n",
       "  </thead>\n",
       "  <tbody>\n",
       "    <tr>\n",
       "      <th>0</th>\n",
       "      <td>2012-01-01 00:00:00</td>\n",
       "      <td>28.76</td>\n",
       "      <td>-1.8</td>\n",
       "      <td>-3.9</td>\n",
       "      <td>86</td>\n",
       "      <td>4</td>\n",
       "      <td>8.0</td>\n",
       "      <td>101.24</td>\n",
       "      <td>Fog</td>\n",
       "    </tr>\n",
       "    <tr>\n",
       "      <th>1</th>\n",
       "      <td>2012-01-01 01:00:00</td>\n",
       "      <td>28.76</td>\n",
       "      <td>-1.8</td>\n",
       "      <td>-3.7</td>\n",
       "      <td>87</td>\n",
       "      <td>4</td>\n",
       "      <td>8.0</td>\n",
       "      <td>101.24</td>\n",
       "      <td>Fog</td>\n",
       "    </tr>\n",
       "    <tr>\n",
       "      <th>2</th>\n",
       "      <td>2012-01-01 02:00:00</td>\n",
       "      <td>28.76</td>\n",
       "      <td>-1.8</td>\n",
       "      <td>-3.4</td>\n",
       "      <td>89</td>\n",
       "      <td>7</td>\n",
       "      <td>4.0</td>\n",
       "      <td>101.26</td>\n",
       "      <td>Freezing Drizzle,Fog</td>\n",
       "    </tr>\n",
       "    <tr>\n",
       "      <th>3</th>\n",
       "      <td>2012-01-01 03:00:00</td>\n",
       "      <td>29.30</td>\n",
       "      <td>-1.5</td>\n",
       "      <td>-3.2</td>\n",
       "      <td>88</td>\n",
       "      <td>6</td>\n",
       "      <td>4.0</td>\n",
       "      <td>101.27</td>\n",
       "      <td>Freezing Drizzle,Fog</td>\n",
       "    </tr>\n",
       "    <tr>\n",
       "      <th>4</th>\n",
       "      <td>2012-01-01 04:00:00</td>\n",
       "      <td>29.30</td>\n",
       "      <td>-1.5</td>\n",
       "      <td>-3.3</td>\n",
       "      <td>88</td>\n",
       "      <td>7</td>\n",
       "      <td>4.8</td>\n",
       "      <td>101.23</td>\n",
       "      <td>Fog</td>\n",
       "    </tr>\n",
       "  </tbody>\n",
       "</table>\n",
       "</div>"
      ],
      "text/plain": [
       "             date_time  temp_f  temp_c  dew_point  relative_humidity  \\\n",
       "0  2012-01-01 00:00:00   28.76    -1.8       -3.9                 86   \n",
       "1  2012-01-01 01:00:00   28.76    -1.8       -3.7                 87   \n",
       "2  2012-01-01 02:00:00   28.76    -1.8       -3.4                 89   \n",
       "3  2012-01-01 03:00:00   29.30    -1.5       -3.2                 88   \n",
       "4  2012-01-01 04:00:00   29.30    -1.5       -3.3                 88   \n",
       "\n",
       "   wind_speed  visibility  pressure               weather  \n",
       "0           4         8.0    101.24                   Fog  \n",
       "1           4         8.0    101.24                   Fog  \n",
       "2           7         4.0    101.26  Freezing Drizzle,Fog  \n",
       "3           6         4.0    101.27  Freezing Drizzle,Fog  \n",
       "4           7         4.8    101.23                   Fog  "
      ]
     },
     "execution_count": 15,
     "metadata": {},
     "output_type": "execute_result"
    }
   ],
   "source": [
    "# test rearrange\n",
    "df.head()"
   ]
  },
  {
   "cell_type": "code",
   "execution_count": 16,
   "id": "6c2da7be-d18b-4f4e-b1ad-f4e5514b2e60",
   "metadata": {},
   "outputs": [
    {
     "data": {
      "text/plain": [
       "date_time             object\n",
       "temp_f               float64\n",
       "temp_c               float64\n",
       "dew_point            float64\n",
       "relative_humidity      int64\n",
       "wind_speed             int64\n",
       "visibility           float64\n",
       "pressure             float64\n",
       "weather               object\n",
       "dtype: object"
      ]
     },
     "execution_count": 16,
     "metadata": {},
     "output_type": "execute_result"
    }
   ],
   "source": [
    "# display types of data\n",
    "df.dtypes"
   ]
  },
  {
   "cell_type": "code",
   "execution_count": 17,
   "id": "72bc6aeb-4b44-4120-b215-faa1a403d5f8",
   "metadata": {},
   "outputs": [],
   "source": [
    "# convert date_time column to datetime\n",
    "df.date_time=pd.to_datetime(df.date_time)"
   ]
  },
  {
   "cell_type": "code",
   "execution_count": 18,
   "id": "553f74dd-f257-4ad3-baa9-8355b9fa3eeb",
   "metadata": {},
   "outputs": [
    {
     "data": {
      "text/plain": [
       "date_time            datetime64[ns]\n",
       "temp_f                      float64\n",
       "temp_c                      float64\n",
       "dew_point                   float64\n",
       "relative_humidity             int64\n",
       "wind_speed                    int64\n",
       "visibility                  float64\n",
       "pressure                    float64\n",
       "weather                      object\n",
       "dtype: object"
      ]
     },
     "execution_count": 18,
     "metadata": {},
     "output_type": "execute_result"
    }
   ],
   "source": [
    "# test success\n",
    "df.dtypes"
   ]
  },
  {
   "cell_type": "code",
   "execution_count": 19,
   "id": "5ec1444c-1e07-4a6e-87a3-fe16ec6d16e7",
   "metadata": {},
   "outputs": [],
   "source": [
    "# create series\n",
    "monthly_avg = df.groupby(pd.PeriodIndex(df['date_time'], freq=\"M\"))['temp_f'].mean()"
   ]
  },
  {
   "cell_type": "code",
   "execution_count": 20,
   "id": "9d85ab63-658f-4f1a-9538-dad0a9939e3f",
   "metadata": {},
   "outputs": [
    {
     "data": {
      "text/plain": [
       "date_time\n",
       "2012-01    18.731290\n",
       "2012-02    24.395000\n",
       "2012-03    37.618226\n",
       "2012-04    44.616750\n",
       "2012-05    61.227984\n",
       "Freq: M, Name: temp_f, dtype: float64"
      ]
     },
     "execution_count": 20,
     "metadata": {},
     "output_type": "execute_result"
    }
   ],
   "source": [
    "monthly_avg.head()"
   ]
  },
  {
   "cell_type": "code",
   "execution_count": 21,
   "id": "89f97313-9a86-4561-8274-e8e66402e3bf",
   "metadata": {},
   "outputs": [],
   "source": [
    "# convert series to dataframe\n",
    "monthly_avg = monthly_avg.to_frame().reset_index()"
   ]
  },
  {
   "cell_type": "code",
   "execution_count": 22,
   "id": "a3713847-6ecf-4f53-9dfd-04f1efd8a2f9",
   "metadata": {},
   "outputs": [
    {
     "data": {
      "text/html": [
       "<div>\n",
       "<style scoped>\n",
       "    .dataframe tbody tr th:only-of-type {\n",
       "        vertical-align: middle;\n",
       "    }\n",
       "\n",
       "    .dataframe tbody tr th {\n",
       "        vertical-align: top;\n",
       "    }\n",
       "\n",
       "    .dataframe thead th {\n",
       "        text-align: right;\n",
       "    }\n",
       "</style>\n",
       "<table border=\"1\" class=\"dataframe\">\n",
       "  <thead>\n",
       "    <tr style=\"text-align: right;\">\n",
       "      <th></th>\n",
       "      <th>date_time</th>\n",
       "      <th>temp_f</th>\n",
       "    </tr>\n",
       "  </thead>\n",
       "  <tbody>\n",
       "    <tr>\n",
       "      <th>0</th>\n",
       "      <td>2012-01</td>\n",
       "      <td>18.731290</td>\n",
       "    </tr>\n",
       "    <tr>\n",
       "      <th>1</th>\n",
       "      <td>2012-02</td>\n",
       "      <td>24.395000</td>\n",
       "    </tr>\n",
       "    <tr>\n",
       "      <th>2</th>\n",
       "      <td>2012-03</td>\n",
       "      <td>37.618226</td>\n",
       "    </tr>\n",
       "    <tr>\n",
       "      <th>3</th>\n",
       "      <td>2012-04</td>\n",
       "      <td>44.616750</td>\n",
       "    </tr>\n",
       "    <tr>\n",
       "      <th>4</th>\n",
       "      <td>2012-05</td>\n",
       "      <td>61.227984</td>\n",
       "    </tr>\n",
       "  </tbody>\n",
       "</table>\n",
       "</div>"
      ],
      "text/plain": [
       "  date_time     temp_f\n",
       "0   2012-01  18.731290\n",
       "1   2012-02  24.395000\n",
       "2   2012-03  37.618226\n",
       "3   2012-04  44.616750\n",
       "4   2012-05  61.227984"
      ]
     },
     "execution_count": 22,
     "metadata": {},
     "output_type": "execute_result"
    }
   ],
   "source": [
    "monthly_avg.head()"
   ]
  },
  {
   "cell_type": "code",
   "execution_count": 23,
   "id": "bf561305-e461-4c22-b2fc-033671dd4654",
   "metadata": {},
   "outputs": [],
   "source": [
    "# create function\n",
    "def to_month(x):\n",
    "    y = x + 1\n",
    "    return y"
   ]
  },
  {
   "cell_type": "code",
   "execution_count": 24,
   "id": "4ccbb952-19c0-45fa-8f90-b8f2cd320399",
   "metadata": {},
   "outputs": [],
   "source": [
    "# create column\n",
    "monthly_avg['month'] = to_month(monthly_avg.index)"
   ]
  },
  {
   "cell_type": "code",
   "execution_count": 25,
   "id": "1c179081-136a-4b6c-9f2b-37f28f3da93b",
   "metadata": {},
   "outputs": [
    {
     "data": {
      "text/html": [
       "<div>\n",
       "<style scoped>\n",
       "    .dataframe tbody tr th:only-of-type {\n",
       "        vertical-align: middle;\n",
       "    }\n",
       "\n",
       "    .dataframe tbody tr th {\n",
       "        vertical-align: top;\n",
       "    }\n",
       "\n",
       "    .dataframe thead th {\n",
       "        text-align: right;\n",
       "    }\n",
       "</style>\n",
       "<table border=\"1\" class=\"dataframe\">\n",
       "  <thead>\n",
       "    <tr style=\"text-align: right;\">\n",
       "      <th></th>\n",
       "      <th>date_time</th>\n",
       "      <th>temp_f</th>\n",
       "      <th>month</th>\n",
       "    </tr>\n",
       "  </thead>\n",
       "  <tbody>\n",
       "    <tr>\n",
       "      <th>0</th>\n",
       "      <td>2012-01</td>\n",
       "      <td>18.731290</td>\n",
       "      <td>1</td>\n",
       "    </tr>\n",
       "    <tr>\n",
       "      <th>1</th>\n",
       "      <td>2012-02</td>\n",
       "      <td>24.395000</td>\n",
       "      <td>2</td>\n",
       "    </tr>\n",
       "    <tr>\n",
       "      <th>2</th>\n",
       "      <td>2012-03</td>\n",
       "      <td>37.618226</td>\n",
       "      <td>3</td>\n",
       "    </tr>\n",
       "    <tr>\n",
       "      <th>3</th>\n",
       "      <td>2012-04</td>\n",
       "      <td>44.616750</td>\n",
       "      <td>4</td>\n",
       "    </tr>\n",
       "    <tr>\n",
       "      <th>4</th>\n",
       "      <td>2012-05</td>\n",
       "      <td>61.227984</td>\n",
       "      <td>5</td>\n",
       "    </tr>\n",
       "  </tbody>\n",
       "</table>\n",
       "</div>"
      ],
      "text/plain": [
       "  date_time     temp_f  month\n",
       "0   2012-01  18.731290      1\n",
       "1   2012-02  24.395000      2\n",
       "2   2012-03  37.618226      3\n",
       "3   2012-04  44.616750      4\n",
       "4   2012-05  61.227984      5"
      ]
     },
     "execution_count": 25,
     "metadata": {},
     "output_type": "execute_result"
    }
   ],
   "source": [
    "monthly_avg.head()"
   ]
  },
  {
   "cell_type": "code",
   "execution_count": 26,
   "id": "80a37d9b-79af-4584-a1cf-821fda7ac1b9",
   "metadata": {},
   "outputs": [],
   "source": [
    "# reorder columns\n",
    "monthly_avg=monthly_avg[['month','temp_f']]"
   ]
  },
  {
   "cell_type": "code",
   "execution_count": 27,
   "id": "5413be07-9443-4be2-9b3c-f8b14961e1f0",
   "metadata": {},
   "outputs": [
    {
     "data": {
      "text/html": [
       "<div>\n",
       "<style scoped>\n",
       "    .dataframe tbody tr th:only-of-type {\n",
       "        vertical-align: middle;\n",
       "    }\n",
       "\n",
       "    .dataframe tbody tr th {\n",
       "        vertical-align: top;\n",
       "    }\n",
       "\n",
       "    .dataframe thead th {\n",
       "        text-align: right;\n",
       "    }\n",
       "</style>\n",
       "<table border=\"1\" class=\"dataframe\">\n",
       "  <thead>\n",
       "    <tr style=\"text-align: right;\">\n",
       "      <th></th>\n",
       "      <th>month</th>\n",
       "      <th>temp_f</th>\n",
       "    </tr>\n",
       "  </thead>\n",
       "  <tbody>\n",
       "    <tr>\n",
       "      <th>0</th>\n",
       "      <td>1</td>\n",
       "      <td>18.731290</td>\n",
       "    </tr>\n",
       "    <tr>\n",
       "      <th>1</th>\n",
       "      <td>2</td>\n",
       "      <td>24.395000</td>\n",
       "    </tr>\n",
       "    <tr>\n",
       "      <th>2</th>\n",
       "      <td>3</td>\n",
       "      <td>37.618226</td>\n",
       "    </tr>\n",
       "    <tr>\n",
       "      <th>3</th>\n",
       "      <td>4</td>\n",
       "      <td>44.616750</td>\n",
       "    </tr>\n",
       "    <tr>\n",
       "      <th>4</th>\n",
       "      <td>5</td>\n",
       "      <td>61.227984</td>\n",
       "    </tr>\n",
       "  </tbody>\n",
       "</table>\n",
       "</div>"
      ],
      "text/plain": [
       "   month     temp_f\n",
       "0      1  18.731290\n",
       "1      2  24.395000\n",
       "2      3  37.618226\n",
       "3      4  44.616750\n",
       "4      5  61.227984"
      ]
     },
     "execution_count": 27,
     "metadata": {},
     "output_type": "execute_result"
    }
   ],
   "source": [
    "monthly_avg.head()"
   ]
  },
  {
   "cell_type": "code",
   "execution_count": 28,
   "id": "58bbfb71-2fa5-48dd-a92d-c87bd0553ec6",
   "metadata": {},
   "outputs": [],
   "source": [
    "# already done with reset index previously"
   ]
  },
  {
   "cell_type": "code",
   "execution_count": 29,
   "id": "52911829-a5f2-4797-876b-b430d3fd2ef5",
   "metadata": {},
   "outputs": [],
   "source": [
    "# create dictionary\n",
    "def num_to_word(x):\n",
    "    months={1:'January',\n",
    "            2:'February',\n",
    "           3:'March',\n",
    "           4:'April',\n",
    "           5:'May',\n",
    "           6:'June',\n",
    "           7:'July',\n",
    "           8:'August',\n",
    "           9:'September',\n",
    "           10:'October',\n",
    "           11:'November',\n",
    "           12:'December'}\n",
    "    return months[x]"
   ]
  },
  {
   "cell_type": "code",
   "execution_count": 30,
   "id": "5e98d01c-a324-4b09-89b7-2a7b86e74f95",
   "metadata": {},
   "outputs": [
    {
     "data": {
      "text/plain": [
       "'June'"
      ]
     },
     "execution_count": 30,
     "metadata": {},
     "output_type": "execute_result"
    }
   ],
   "source": [
    "# check dictionary\n",
    "num_to_word(6)"
   ]
  },
  {
   "cell_type": "code",
   "execution_count": 31,
   "id": "99bbfd07-8c69-4868-bcef-469e2829a48c",
   "metadata": {},
   "outputs": [],
   "source": [
    "# convert months to their names\n",
    "monthly_avg['month']=list(map(lambda x: num_to_word(x), monthly_avg['month']))"
   ]
  },
  {
   "cell_type": "code",
   "execution_count": 32,
   "id": "75d7c82a-cc9b-4e7a-a4cd-3fbfa1ce3345",
   "metadata": {},
   "outputs": [
    {
     "data": {
      "text/html": [
       "<div>\n",
       "<style scoped>\n",
       "    .dataframe tbody tr th:only-of-type {\n",
       "        vertical-align: middle;\n",
       "    }\n",
       "\n",
       "    .dataframe tbody tr th {\n",
       "        vertical-align: top;\n",
       "    }\n",
       "\n",
       "    .dataframe thead th {\n",
       "        text-align: right;\n",
       "    }\n",
       "</style>\n",
       "<table border=\"1\" class=\"dataframe\">\n",
       "  <thead>\n",
       "    <tr style=\"text-align: right;\">\n",
       "      <th></th>\n",
       "      <th>month</th>\n",
       "      <th>temp_f</th>\n",
       "    </tr>\n",
       "  </thead>\n",
       "  <tbody>\n",
       "    <tr>\n",
       "      <th>0</th>\n",
       "      <td>January</td>\n",
       "      <td>18.731290</td>\n",
       "    </tr>\n",
       "    <tr>\n",
       "      <th>1</th>\n",
       "      <td>February</td>\n",
       "      <td>24.395000</td>\n",
       "    </tr>\n",
       "    <tr>\n",
       "      <th>2</th>\n",
       "      <td>March</td>\n",
       "      <td>37.618226</td>\n",
       "    </tr>\n",
       "    <tr>\n",
       "      <th>3</th>\n",
       "      <td>April</td>\n",
       "      <td>44.616750</td>\n",
       "    </tr>\n",
       "    <tr>\n",
       "      <th>4</th>\n",
       "      <td>May</td>\n",
       "      <td>61.227984</td>\n",
       "    </tr>\n",
       "  </tbody>\n",
       "</table>\n",
       "</div>"
      ],
      "text/plain": [
       "      month     temp_f\n",
       "0   January  18.731290\n",
       "1  February  24.395000\n",
       "2     March  37.618226\n",
       "3     April  44.616750\n",
       "4       May  61.227984"
      ]
     },
     "execution_count": 32,
     "metadata": {},
     "output_type": "execute_result"
    }
   ],
   "source": [
    "# test months\n",
    "monthly_avg.head()"
   ]
  },
  {
   "cell_type": "code",
   "execution_count": 33,
   "id": "4f6c4bf3-3756-42a2-84c3-45510b454ac5",
   "metadata": {},
   "outputs": [
    {
     "data": {
      "text/html": [
       "<div>\n",
       "<style scoped>\n",
       "    .dataframe tbody tr th:only-of-type {\n",
       "        vertical-align: middle;\n",
       "    }\n",
       "\n",
       "    .dataframe tbody tr th {\n",
       "        vertical-align: top;\n",
       "    }\n",
       "\n",
       "    .dataframe thead th {\n",
       "        text-align: right;\n",
       "    }\n",
       "</style>\n",
       "<table border=\"1\" class=\"dataframe\">\n",
       "  <thead>\n",
       "    <tr style=\"text-align: right;\">\n",
       "      <th></th>\n",
       "      <th>date_time</th>\n",
       "      <th>temp_f</th>\n",
       "      <th>temp_c</th>\n",
       "      <th>dew_point</th>\n",
       "      <th>relative_humidity</th>\n",
       "      <th>wind_speed</th>\n",
       "      <th>visibility</th>\n",
       "      <th>pressure</th>\n",
       "      <th>weather</th>\n",
       "    </tr>\n",
       "  </thead>\n",
       "  <tbody>\n",
       "    <tr>\n",
       "      <th>517</th>\n",
       "      <td>2012-01-22 13:00:00</td>\n",
       "      <td>11.84</td>\n",
       "      <td>-11.2</td>\n",
       "      <td>-16.0</td>\n",
       "      <td>68</td>\n",
       "      <td>11</td>\n",
       "      <td>8.0</td>\n",
       "      <td>102.86</td>\n",
       "      <td>Haze</td>\n",
       "    </tr>\n",
       "    <tr>\n",
       "      <th>1621</th>\n",
       "      <td>2012-03-08 13:00:00</td>\n",
       "      <td>52.70</td>\n",
       "      <td>11.5</td>\n",
       "      <td>5.2</td>\n",
       "      <td>65</td>\n",
       "      <td>20</td>\n",
       "      <td>24.1</td>\n",
       "      <td>99.99</td>\n",
       "      <td>Cloudy</td>\n",
       "    </tr>\n",
       "    <tr>\n",
       "      <th>3995</th>\n",
       "      <td>2012-06-15 11:00:00</td>\n",
       "      <td>71.96</td>\n",
       "      <td>22.2</td>\n",
       "      <td>7.9</td>\n",
       "      <td>40</td>\n",
       "      <td>15</td>\n",
       "      <td>48.3</td>\n",
       "      <td>102.35</td>\n",
       "      <td>Mostly Cloudy</td>\n",
       "    </tr>\n",
       "    <tr>\n",
       "      <th>2907</th>\n",
       "      <td>2012-05-01 03:00:00</td>\n",
       "      <td>47.84</td>\n",
       "      <td>8.8</td>\n",
       "      <td>3.2</td>\n",
       "      <td>68</td>\n",
       "      <td>15</td>\n",
       "      <td>25.0</td>\n",
       "      <td>101.20</td>\n",
       "      <td>Rain Showers</td>\n",
       "    </tr>\n",
       "    <tr>\n",
       "      <th>4013</th>\n",
       "      <td>2012-06-16 05:00:00</td>\n",
       "      <td>57.02</td>\n",
       "      <td>13.9</td>\n",
       "      <td>8.5</td>\n",
       "      <td>70</td>\n",
       "      <td>13</td>\n",
       "      <td>24.1</td>\n",
       "      <td>102.16</td>\n",
       "      <td>Mostly Cloudy</td>\n",
       "    </tr>\n",
       "  </tbody>\n",
       "</table>\n",
       "</div>"
      ],
      "text/plain": [
       "               date_time  temp_f  temp_c  dew_point  relative_humidity  \\\n",
       "517  2012-01-22 13:00:00   11.84   -11.2      -16.0                 68   \n",
       "1621 2012-03-08 13:00:00   52.70    11.5        5.2                 65   \n",
       "3995 2012-06-15 11:00:00   71.96    22.2        7.9                 40   \n",
       "2907 2012-05-01 03:00:00   47.84     8.8        3.2                 68   \n",
       "4013 2012-06-16 05:00:00   57.02    13.9        8.5                 70   \n",
       "\n",
       "      wind_speed  visibility  pressure        weather  \n",
       "517           11         8.0    102.86           Haze  \n",
       "1621          20        24.1     99.99         Cloudy  \n",
       "3995          15        48.3    102.35  Mostly Cloudy  \n",
       "2907          15        25.0    101.20   Rain Showers  \n",
       "4013          13        24.1    102.16  Mostly Cloudy  "
      ]
     },
     "execution_count": 33,
     "metadata": {},
     "output_type": "execute_result"
    }
   ],
   "source": [
    "df.sample(5)"
   ]
  },
  {
   "cell_type": "code",
   "execution_count": 39,
   "id": "d8575e32-81d6-403b-87e2-03fd3fffb594",
   "metadata": {},
   "outputs": [],
   "source": [
    "# create filter\n",
    "hourFilter=df.date_time.dt.hour"
   ]
  },
  {
   "cell_type": "code",
   "execution_count": 41,
   "id": "98296e54-c150-4901-b24a-d9b3496155bf",
   "metadata": {},
   "outputs": [
    {
     "data": {
      "text/plain": [
       "3"
      ]
     },
     "execution_count": 41,
     "metadata": {},
     "output_type": "execute_result"
    }
   ],
   "source": [
    "# test filter from sample\n",
    "hourFilter[2907]"
   ]
  },
  {
   "cell_type": "code",
   "execution_count": 36,
   "id": "430564db-0eee-47a5-ae1f-951332cc2889",
   "metadata": {},
   "outputs": [],
   "source": [
    "# create series\n",
    "hourly_avg=df['temp_f'].groupby(hourFilter).mean()"
   ]
  },
  {
   "cell_type": "code",
   "execution_count": 37,
   "id": "c1fe2218-fb6e-4bcc-a18c-0ec63d2e5f6e",
   "metadata": {},
   "outputs": [
    {
     "data": {
      "text/plain": [
       "date_time\n",
       "0     45.623443\n",
       "1     44.762787\n",
       "2     43.980820\n",
       "3     43.325246\n",
       "4     42.744426\n",
       "5     42.291967\n",
       "6     42.859508\n",
       "7     43.831311\n",
       "8     45.280656\n",
       "9     46.987213\n",
       "10    48.699672\n",
       "11    50.193770\n",
       "12    51.541803\n",
       "13    52.508689\n",
       "14    53.196721\n",
       "15    53.391475\n",
       "16    53.178033\n",
       "17    52.297705\n",
       "18    51.181311\n",
       "19    50.041311\n",
       "20    48.848197\n",
       "21    47.851803\n",
       "22    47.064918\n",
       "23    46.397049\n",
       "Name: temp_f, dtype: float64"
      ]
     },
     "execution_count": 37,
     "metadata": {},
     "output_type": "execute_result"
    }
   ],
   "source": [
    "# test series\n",
    "hourly_avg"
   ]
  },
  {
   "cell_type": "code",
   "execution_count": 43,
   "id": "7c42b202-6be0-4d77-8c5f-ac030ef2aa94",
   "metadata": {},
   "outputs": [],
   "source": [
    "# name index\n",
    "hourly_avg.index.name='Hour'"
   ]
  },
  {
   "cell_type": "code",
   "execution_count": 44,
   "id": "408aa7f0-556c-4b07-af16-f71c44096456",
   "metadata": {},
   "outputs": [
    {
     "data": {
      "text/plain": [
       "Hour\n",
       "0     45.623443\n",
       "1     44.762787\n",
       "2     43.980820\n",
       "3     43.325246\n",
       "4     42.744426\n",
       "5     42.291967\n",
       "6     42.859508\n",
       "7     43.831311\n",
       "8     45.280656\n",
       "9     46.987213\n",
       "10    48.699672\n",
       "11    50.193770\n",
       "12    51.541803\n",
       "13    52.508689\n",
       "14    53.196721\n",
       "15    53.391475\n",
       "16    53.178033\n",
       "17    52.297705\n",
       "18    51.181311\n",
       "19    50.041311\n",
       "20    48.848197\n",
       "21    47.851803\n",
       "22    47.064918\n",
       "23    46.397049\n",
       "Name: temp_f, dtype: float64"
      ]
     },
     "execution_count": 44,
     "metadata": {},
     "output_type": "execute_result"
    }
   ],
   "source": [
    "# test index\n",
    "hourly_avg"
   ]
  },
  {
   "cell_type": "code",
   "execution_count": 45,
   "id": "296f5c67-16e0-435c-8976-b21539aa02a5",
   "metadata": {},
   "outputs": [],
   "source": [
    "# create dictionary\n",
    "def civ_time(x):\n",
    "    mil_time={0:'12:00AM',\n",
    "             1:'1:00AM',\n",
    "             2:'2:00AM',\n",
    "             3:'3:00AM',\n",
    "             4:'4:00AM',\n",
    "             5:'5:00AM',\n",
    "             6:'6:00AM',\n",
    "             7:'7:00AM',\n",
    "             8:'8:00AM',\n",
    "             9:'9:00AM',\n",
    "             10:'10:00AM',\n",
    "             11:'11:00AM',\n",
    "             12:'12:00PM',\n",
    "             13:'1:00PM',\n",
    "             14:'2:00PM',\n",
    "             15:'3:00PM',\n",
    "             16:'4:00PM',\n",
    "             17:'5:00PM',\n",
    "             18:'6:00PM',\n",
    "             19:'7:00PM',\n",
    "             20:'8:00PM',\n",
    "             21:'9:00PM',\n",
    "             22:'10:00PM',\n",
    "             23:'11:00PM',\n",
    "             24:'12:00PM',}\n",
    "    return mil_time[x]"
   ]
  },
  {
   "cell_type": "code",
   "execution_count": 46,
   "id": "3ee1106e-d6a3-4daf-a820-cb4c94225bde",
   "metadata": {},
   "outputs": [],
   "source": [
    "# convert index\n",
    "hourly_avg.index=list(map(lambda x: civ_time(x), hourly_avg.index))"
   ]
  },
  {
   "cell_type": "code",
   "execution_count": 47,
   "id": "9b7c1609-2da8-4620-933e-622c39d99183",
   "metadata": {},
   "outputs": [
    {
     "data": {
      "text/plain": [
       "12:00AM    45.623443\n",
       "1:00AM     44.762787\n",
       "2:00AM     43.980820\n",
       "3:00AM     43.325246\n",
       "4:00AM     42.744426\n",
       "5:00AM     42.291967\n",
       "6:00AM     42.859508\n",
       "7:00AM     43.831311\n",
       "8:00AM     45.280656\n",
       "9:00AM     46.987213\n",
       "10:00AM    48.699672\n",
       "11:00AM    50.193770\n",
       "12:00PM    51.541803\n",
       "1:00PM     52.508689\n",
       "2:00PM     53.196721\n",
       "3:00PM     53.391475\n",
       "4:00PM     53.178033\n",
       "5:00PM     52.297705\n",
       "6:00PM     51.181311\n",
       "7:00PM     50.041311\n",
       "8:00PM     48.848197\n",
       "9:00PM     47.851803\n",
       "10:00PM    47.064918\n",
       "11:00PM    46.397049\n",
       "Name: temp_f, dtype: float64"
      ]
     },
     "execution_count": 47,
     "metadata": {},
     "output_type": "execute_result"
    }
   ],
   "source": [
    "hourly_avg"
   ]
  },
  {
   "cell_type": "code",
   "execution_count": 48,
   "id": "817403bc-ea5c-4ca5-b060-3a46bd03f908",
   "metadata": {},
   "outputs": [],
   "source": [
    "# rename index\n",
    "hourly_avg.index.name='Hour'"
   ]
  },
  {
   "cell_type": "code",
   "execution_count": 49,
   "id": "79364541-3f60-4f04-9116-e4a764a76dc9",
   "metadata": {},
   "outputs": [
    {
     "data": {
      "text/plain": [
       "Hour\n",
       "12:00AM    45.623443\n",
       "1:00AM     44.762787\n",
       "2:00AM     43.980820\n",
       "3:00AM     43.325246\n",
       "4:00AM     42.744426\n",
       "5:00AM     42.291967\n",
       "6:00AM     42.859508\n",
       "7:00AM     43.831311\n",
       "8:00AM     45.280656\n",
       "9:00AM     46.987213\n",
       "10:00AM    48.699672\n",
       "11:00AM    50.193770\n",
       "12:00PM    51.541803\n",
       "1:00PM     52.508689\n",
       "2:00PM     53.196721\n",
       "3:00PM     53.391475\n",
       "4:00PM     53.178033\n",
       "5:00PM     52.297705\n",
       "6:00PM     51.181311\n",
       "7:00PM     50.041311\n",
       "8:00PM     48.848197\n",
       "9:00PM     47.851803\n",
       "10:00PM    47.064918\n",
       "11:00PM    46.397049\n",
       "Name: temp_f, dtype: float64"
      ]
     },
     "execution_count": 49,
     "metadata": {},
     "output_type": "execute_result"
    }
   ],
   "source": [
    "# retest index\n",
    "hourly_avg"
   ]
  },
  {
   "cell_type": "code",
   "execution_count": 50,
   "id": "0e252ae9-44d1-4a72-8375-9587c0563ef2",
   "metadata": {},
   "outputs": [
    {
     "data": {
      "text/plain": [
       "weather\n",
       "Clear                                      1326\n",
       "Cloudy                                     1728\n",
       "Drizzle                                      41\n",
       "Drizzle,Fog                                  80\n",
       "Drizzle,Ice Pellets,Fog                       1\n",
       "Drizzle,Snow                                  2\n",
       "Drizzle,Snow,Fog                             15\n",
       "Fog                                         150\n",
       "Freezing Drizzle                              7\n",
       "Freezing Drizzle,Fog                          6\n",
       "Freezing Drizzle,Haze                         3\n",
       "Freezing Drizzle,Snow                        11\n",
       "Freezing Fog                                  4\n",
       "Freezing Rain                                14\n",
       "Freezing Rain,Fog                             4\n",
       "Freezing Rain,Haze                            2\n",
       "Freezing Rain,Ice Pellets,Fog                 1\n",
       "Freezing Rain,Snow Grains                     1\n",
       "Haze                                         16\n",
       "Mainly Clear                               2106\n",
       "Moderate Rain,Fog                             1\n",
       "Moderate Snow                                 4\n",
       "Moderate Snow,Blowing Snow                    2\n",
       "Mostly Cloudy                              2069\n",
       "Rain                                        306\n",
       "Rain Showers                                188\n",
       "Rain Showers,Fog                              1\n",
       "Rain Showers,Snow Showers                     2\n",
       "Rain,Fog                                    116\n",
       "Rain,Haze                                     3\n",
       "Rain,Ice Pellets                              1\n",
       "Rain,Snow                                    18\n",
       "Rain,Snow Grains                              1\n",
       "Rain,Snow,Fog                                 1\n",
       "Rain,Snow,Ice Pellets                         4\n",
       "Snow                                        390\n",
       "Snow Pellets                                  1\n",
       "Snow Showers                                 60\n",
       "Snow Showers,Fog                              4\n",
       "Snow,Blowing Snow                            19\n",
       "Snow,Fog                                     37\n",
       "Snow,Haze                                     5\n",
       "Snow,Ice Pellets                              6\n",
       "Thunderstorms                                 2\n",
       "Thunderstorms,Heavy Rain Showers              1\n",
       "Thunderstorms,Moderate Rain Showers,Fog       1\n",
       "Thunderstorms,Rain                            3\n",
       "Thunderstorms,Rain Showers                   16\n",
       "Thunderstorms,Rain Showers,Fog                3\n",
       "Thunderstorms,Rain,Fog                        1\n",
       "Name: weather, dtype: int64"
      ]
     },
     "execution_count": 50,
     "metadata": {},
     "output_type": "execute_result"
    }
   ],
   "source": [
    "# count of various weather types\n",
    "df['weather'].groupby(df['weather']).count()"
   ]
  },
  {
   "cell_type": "code",
   "execution_count": 51,
   "id": "d887e816-7f69-41d9-b1fe-15a0d26ef243",
   "metadata": {},
   "outputs": [],
   "source": [
    "#create list of all conditions\n",
    "conditions=list(set(i for i in df.weather))"
   ]
  },
  {
   "cell_type": "code",
   "execution_count": 52,
   "id": "757daa81-0784-4c3f-9afa-d9b810baa28b",
   "metadata": {},
   "outputs": [
    {
     "data": {
      "text/plain": [
       "['Freezing Rain',\n",
       " 'Thunderstorms,Heavy Rain Showers',\n",
       " 'Rain,Snow Grains',\n",
       " 'Drizzle',\n",
       " 'Thunderstorms,Rain Showers',\n",
       " 'Thunderstorms,Rain Showers,Fog',\n",
       " 'Rain Showers,Fog',\n",
       " 'Moderate Rain,Fog',\n",
       " 'Freezing Drizzle,Snow',\n",
       " 'Drizzle,Snow',\n",
       " 'Rain,Haze',\n",
       " 'Drizzle,Fog',\n",
       " 'Snow,Ice Pellets',\n",
       " 'Thunderstorms,Rain',\n",
       " 'Moderate Snow,Blowing Snow',\n",
       " 'Snow,Fog',\n",
       " 'Rain,Snow,Ice Pellets',\n",
       " 'Freezing Drizzle',\n",
       " 'Snow Showers,Fog',\n",
       " 'Rain Showers',\n",
       " 'Cloudy',\n",
       " 'Freezing Rain,Snow Grains',\n",
       " 'Thunderstorms',\n",
       " 'Rain',\n",
       " 'Rain,Snow,Fog',\n",
       " 'Freezing Drizzle,Fog',\n",
       " 'Freezing Rain,Haze',\n",
       " 'Snow,Haze',\n",
       " 'Freezing Fog',\n",
       " 'Drizzle,Snow,Fog',\n",
       " 'Snow,Blowing Snow',\n",
       " 'Clear',\n",
       " 'Fog',\n",
       " 'Rain,Snow',\n",
       " 'Mainly Clear',\n",
       " 'Snow',\n",
       " 'Mostly Cloudy',\n",
       " 'Freezing Drizzle,Haze',\n",
       " 'Rain,Ice Pellets',\n",
       " 'Snow Showers',\n",
       " 'Freezing Rain,Ice Pellets,Fog',\n",
       " 'Freezing Rain,Fog',\n",
       " 'Haze',\n",
       " 'Thunderstorms,Moderate Rain Showers,Fog',\n",
       " 'Snow Pellets',\n",
       " 'Thunderstorms,Rain,Fog',\n",
       " 'Rain,Fog',\n",
       " 'Moderate Snow',\n",
       " 'Drizzle,Ice Pellets,Fog',\n",
       " 'Rain Showers,Snow Showers']"
      ]
     },
     "execution_count": 52,
     "metadata": {},
     "output_type": "execute_result"
    }
   ],
   "source": [
    "conditions"
   ]
  },
  {
   "cell_type": "code",
   "execution_count": 53,
   "id": "45382cc7-ba59-427e-9465-17cf49a1ed18",
   "metadata": {},
   "outputs": [],
   "source": [
    "# split items with commas and remove duplicates\n",
    "list1=list()\n",
    "for x in conditions:\n",
    "    list1+=x.split(sep=',')\n",
    "set1=set(x for x in list1)\n",
    "uniqueconditions=list(set1)"
   ]
  },
  {
   "cell_type": "code",
   "execution_count": 54,
   "id": "3f171a2a-4904-4226-b955-27a8e23a81e2",
   "metadata": {},
   "outputs": [
    {
     "data": {
      "text/plain": [
       "['Freezing Rain',\n",
       " 'Moderate Rain Showers',\n",
       " 'Drizzle',\n",
       " 'Freezing Drizzle',\n",
       " 'Rain Showers',\n",
       " 'Cloudy',\n",
       " 'Blowing Snow',\n",
       " 'Snow Grains',\n",
       " 'Thunderstorms',\n",
       " 'Rain',\n",
       " 'Ice Pellets',\n",
       " 'Heavy Rain Showers',\n",
       " 'Freezing Fog',\n",
       " 'Moderate Rain',\n",
       " 'Clear',\n",
       " 'Fog',\n",
       " 'Snow',\n",
       " 'Mainly Clear',\n",
       " 'Mostly Cloudy',\n",
       " 'Snow Showers',\n",
       " 'Haze',\n",
       " 'Snow Pellets',\n",
       " 'Moderate Snow']"
      ]
     },
     "execution_count": 54,
     "metadata": {},
     "output_type": "execute_result"
    }
   ],
   "source": [
    "# show unique weather conditions\n",
    "uniqueconditions"
   ]
  },
  {
   "cell_type": "code",
   "execution_count": 55,
   "id": "0900c732-0bcb-4cac-b705-d3e366122f0f",
   "metadata": {},
   "outputs": [],
   "source": [
    "# arranging alphabetically\n",
    "uniqueconditions=sorted(uniqueconditions)"
   ]
  },
  {
   "cell_type": "code",
   "execution_count": 56,
   "id": "92531bc3-ff19-4239-96f3-b32fd6efea5d",
   "metadata": {},
   "outputs": [
    {
     "data": {
      "text/plain": [
       "['Blowing Snow',\n",
       " 'Clear',\n",
       " 'Cloudy',\n",
       " 'Drizzle',\n",
       " 'Fog',\n",
       " 'Freezing Drizzle',\n",
       " 'Freezing Fog',\n",
       " 'Freezing Rain',\n",
       " 'Haze',\n",
       " 'Heavy Rain Showers',\n",
       " 'Ice Pellets',\n",
       " 'Mainly Clear',\n",
       " 'Moderate Rain',\n",
       " 'Moderate Rain Showers',\n",
       " 'Moderate Snow',\n",
       " 'Mostly Cloudy',\n",
       " 'Rain',\n",
       " 'Rain Showers',\n",
       " 'Snow',\n",
       " 'Snow Grains',\n",
       " 'Snow Pellets',\n",
       " 'Snow Showers',\n",
       " 'Thunderstorms']"
      ]
     },
     "execution_count": 56,
     "metadata": {},
     "output_type": "execute_result"
    }
   ],
   "source": [
    "# test sort\n",
    "uniqueconditions"
   ]
  },
  {
   "cell_type": "code",
   "execution_count": 57,
   "id": "70c75017-60ae-427f-b1e0-e2342e5e756e",
   "metadata": {},
   "outputs": [
    {
     "data": {
      "text/plain": [
       "Index(['Date/Time', 'Temp (C)', 'Dew Point Temp (C)', 'Rel Hum (%)',\n",
       "       'Wind Spd (km/h)', 'Visibility (km)', 'Stn Press (kPa)', 'Weather'],\n",
       "      dtype='object')"
      ]
     },
     "execution_count": 57,
     "metadata": {},
     "output_type": "execute_result"
    }
   ],
   "source": [
    "# call back original columns\n",
    "columns"
   ]
  },
  {
   "cell_type": "code",
   "execution_count": 58,
   "id": "ca8fe300-b484-407c-8539-6a3398b906ca",
   "metadata": {},
   "outputs": [],
   "source": [
    "# renaming columns\n",
    "df.columns=['Date/Time', 'Tenp(F)', 'Temp (C)', 'Dew Point Temp (C)', 'Rel Hum (%)',\n",
    "       'Wind Spd (km/h)', 'Visibility (km)', 'Stn Press (kPa)', 'Weather']"
   ]
  },
  {
   "cell_type": "code",
   "execution_count": 59,
   "id": "3c9bfdb2-e26c-4578-8dfe-e4a6dc53e0ee",
   "metadata": {},
   "outputs": [
    {
     "data": {
      "text/html": [
       "<div>\n",
       "<style scoped>\n",
       "    .dataframe tbody tr th:only-of-type {\n",
       "        vertical-align: middle;\n",
       "    }\n",
       "\n",
       "    .dataframe tbody tr th {\n",
       "        vertical-align: top;\n",
       "    }\n",
       "\n",
       "    .dataframe thead th {\n",
       "        text-align: right;\n",
       "    }\n",
       "</style>\n",
       "<table border=\"1\" class=\"dataframe\">\n",
       "  <thead>\n",
       "    <tr style=\"text-align: right;\">\n",
       "      <th></th>\n",
       "      <th>Date/Time</th>\n",
       "      <th>Tenp(F)</th>\n",
       "      <th>Temp (C)</th>\n",
       "      <th>Dew Point Temp (C)</th>\n",
       "      <th>Rel Hum (%)</th>\n",
       "      <th>Wind Spd (km/h)</th>\n",
       "      <th>Visibility (km)</th>\n",
       "      <th>Stn Press (kPa)</th>\n",
       "      <th>Weather</th>\n",
       "    </tr>\n",
       "  </thead>\n",
       "  <tbody>\n",
       "    <tr>\n",
       "      <th>0</th>\n",
       "      <td>2012-01-01 00:00:00</td>\n",
       "      <td>28.76</td>\n",
       "      <td>-1.8</td>\n",
       "      <td>-3.9</td>\n",
       "      <td>86</td>\n",
       "      <td>4</td>\n",
       "      <td>8.0</td>\n",
       "      <td>101.24</td>\n",
       "      <td>Fog</td>\n",
       "    </tr>\n",
       "    <tr>\n",
       "      <th>1</th>\n",
       "      <td>2012-01-01 01:00:00</td>\n",
       "      <td>28.76</td>\n",
       "      <td>-1.8</td>\n",
       "      <td>-3.7</td>\n",
       "      <td>87</td>\n",
       "      <td>4</td>\n",
       "      <td>8.0</td>\n",
       "      <td>101.24</td>\n",
       "      <td>Fog</td>\n",
       "    </tr>\n",
       "    <tr>\n",
       "      <th>2</th>\n",
       "      <td>2012-01-01 02:00:00</td>\n",
       "      <td>28.76</td>\n",
       "      <td>-1.8</td>\n",
       "      <td>-3.4</td>\n",
       "      <td>89</td>\n",
       "      <td>7</td>\n",
       "      <td>4.0</td>\n",
       "      <td>101.26</td>\n",
       "      <td>Freezing Drizzle,Fog</td>\n",
       "    </tr>\n",
       "    <tr>\n",
       "      <th>3</th>\n",
       "      <td>2012-01-01 03:00:00</td>\n",
       "      <td>29.30</td>\n",
       "      <td>-1.5</td>\n",
       "      <td>-3.2</td>\n",
       "      <td>88</td>\n",
       "      <td>6</td>\n",
       "      <td>4.0</td>\n",
       "      <td>101.27</td>\n",
       "      <td>Freezing Drizzle,Fog</td>\n",
       "    </tr>\n",
       "    <tr>\n",
       "      <th>4</th>\n",
       "      <td>2012-01-01 04:00:00</td>\n",
       "      <td>29.30</td>\n",
       "      <td>-1.5</td>\n",
       "      <td>-3.3</td>\n",
       "      <td>88</td>\n",
       "      <td>7</td>\n",
       "      <td>4.8</td>\n",
       "      <td>101.23</td>\n",
       "      <td>Fog</td>\n",
       "    </tr>\n",
       "  </tbody>\n",
       "</table>\n",
       "</div>"
      ],
      "text/plain": [
       "            Date/Time  Tenp(F)  Temp (C)  Dew Point Temp (C)  Rel Hum (%)  \\\n",
       "0 2012-01-01 00:00:00    28.76      -1.8                -3.9           86   \n",
       "1 2012-01-01 01:00:00    28.76      -1.8                -3.7           87   \n",
       "2 2012-01-01 02:00:00    28.76      -1.8                -3.4           89   \n",
       "3 2012-01-01 03:00:00    29.30      -1.5                -3.2           88   \n",
       "4 2012-01-01 04:00:00    29.30      -1.5                -3.3           88   \n",
       "\n",
       "   Wind Spd (km/h)  Visibility (km)  Stn Press (kPa)               Weather  \n",
       "0                4              8.0           101.24                   Fog  \n",
       "1                4              8.0           101.24                   Fog  \n",
       "2                7              4.0           101.26  Freezing Drizzle,Fog  \n",
       "3                6              4.0           101.27  Freezing Drizzle,Fog  \n",
       "4                7              4.8           101.23                   Fog  "
      ]
     },
     "execution_count": 59,
     "metadata": {},
     "output_type": "execute_result"
    }
   ],
   "source": [
    "# checking columns\n",
    "df.head()"
   ]
  },
  {
   "cell_type": "code",
   "execution_count": 60,
   "id": "8e1d3697-7d7a-45fc-b2ad-17837f238c4a",
   "metadata": {},
   "outputs": [],
   "source": [
    "df.to_csv('weather_2012_new.csv',index=False)"
   ]
  },
  {
   "cell_type": "code",
   "execution_count": 61,
   "id": "006089b2-4b79-4056-8912-d925def60c60",
   "metadata": {},
   "outputs": [],
   "source": [
    "monthly_avg.to_csv('monthly_avg.csv',index=False)"
   ]
  },
  {
   "cell_type": "code",
   "execution_count": 62,
   "id": "1bac649f-23f3-4a2f-8503-3732305a4b7a",
   "metadata": {},
   "outputs": [],
   "source": [
    "hourly_avg.to_csv('hourly_avg.csv',index=True)"
   ]
  },
  {
   "cell_type": "code",
   "execution_count": null,
   "id": "aded784d-463b-4007-93fc-ee85822e9a6b",
   "metadata": {},
   "outputs": [],
   "source": []
  }
 ],
 "metadata": {
  "kernelspec": {
   "display_name": "Python 3",
   "language": "python",
   "name": "python3"
  },
  "language_info": {
   "codemirror_mode": {
    "name": "ipython",
    "version": 3
   },
   "file_extension": ".py",
   "mimetype": "text/x-python",
   "name": "python",
   "nbconvert_exporter": "python",
   "pygments_lexer": "ipython3",
   "version": "3.8.8"
  }
 },
 "nbformat": 4,
 "nbformat_minor": 5
}
